{
 "cells": [
  {
   "cell_type": "markdown",
   "id": "01295e04-ded4-49bf-883c-b99507f4940f",
   "metadata": {},
   "source": [
    "# Classification of Slow vs Fast Rotator using Mock Illustris Data\n",
    "\n",
    "\n",
    "Aim: Classify slow vs fast rotators\n",
    "\n",
    "Data: Velocity maps of Illustris generated using SimSpin\n",
    "\n",
    "Method: ResNet50"
   ]
  },
  {
   "cell_type": "code",
   "execution_count": null,
   "id": "ff5ae40c-3d3d-4ebc-a6e9-c5b35bf5121d",
   "metadata": {},
   "outputs": [],
   "source": [
    "from tensorflow.keras.applications.resnet50 import ResNet50\n",
    "from tensorflow.keras.applications.resnet50 import preprocess_input, decode_predictions\n",
    "import numpy as np\n",
    "import pandas as pd"
   ]
  },
  {
   "cell_type": "markdown",
   "id": "6bd052e5-448a-433e-a19e-c008987c3642",
   "metadata": {},
   "source": [
    "## Load dataset"
   ]
  },
  {
   "cell_type": "code",
   "execution_count": null,
   "id": "2580c11d-61b9-4be3-9e18-cfa37feeb9f0",
   "metadata": {},
   "outputs": [],
   "source": [
    "# Read all FITS data as array\n",
    "X = # Load data\n",
    "X = preprocess_input(X)"
   ]
  },
  {
   "cell_type": "code",
   "execution_count": null,
   "id": "470b4d69-14f2-4d14-bd1e-d2189e5f72ea",
   "metadata": {},
   "outputs": [],
   "source": [
    "# Separate labels into slow and fast rotator\n",
    "y = "
   ]
  },
  {
   "cell_type": "code",
   "execution_count": null,
   "id": "b121f540-8171-43c9-a755-e39e2b01af6e",
   "metadata": {},
   "outputs": [],
   "source": [
    "# Separate training and test set here\n",
    "X_train, y_train = \n",
    "X_test, y_test = "
   ]
  },
  {
   "cell_type": "markdown",
   "id": "32230420-8710-4afc-8758-3df71a0c9199",
   "metadata": {},
   "source": [
    "## Configs"
   ]
  },
  {
   "cell_type": "code",
   "execution_count": null,
   "id": "031b8e26-3f09-434b-8e6f-62a1618b84ce",
   "metadata": {},
   "outputs": [],
   "source": [
    "img_size_height = 74\n",
    "img_size_width = 74\n",
    "img_size_channel = 5\n",
    "nclass = 2\n",
    "\n",
    "nepochs = 200\n",
    "batch_size = 32"
   ]
  },
  {
   "cell_type": "markdown",
   "id": "2320aab7-34eb-4ee9-80c2-02a588f23a1a",
   "metadata": {},
   "source": [
    "## Train using ResNet"
   ]
  },
  {
   "cell_type": "code",
   "execution_count": null,
   "id": "ceb2f834-13bf-4ebf-8fcc-e8ec05d011a0",
   "metadata": {},
   "outputs": [],
   "source": [
    "model = ResNet50(include_top=False, input_shape=(img_size_height, img_size_width, img_size_channel), classes=nclass)"
   ]
  },
  {
   "cell_type": "code",
   "execution_count": null,
   "id": "eed60a5a-3743-415a-a9e8-4c77633df04b",
   "metadata": {},
   "outputs": [],
   "source": [
    "model.compile(\n",
    "    optimizer='adam',\n",
    "    loss='binary_crossentropy',\n",
    "    metrics=['accuracy'],\n",
    ")\n",
    "\n",
    "history = model.fit(\n",
    "    x=X_train,\n",
    "    y=y_train,\n",
    "    batch_size=batch_size,\n",
    "    epochs=nepochs,\n",
    ")"
   ]
  },
  {
   "cell_type": "code",
   "execution_count": null,
   "id": "212be1a2-3b35-4e33-ae4c-be4887c8f24c",
   "metadata": {},
   "outputs": [],
   "source": [
    "print(model.summary())"
   ]
  },
  {
   "cell_type": "code",
   "execution_count": null,
   "id": "d9cb0224-07f7-411c-8b50-a5d463e2f1bd",
   "metadata": {},
   "outputs": [],
   "source": [
    "# Save model\n",
    "model.save('modelresnet.h5')"
   ]
  },
  {
   "cell_type": "markdown",
   "id": "af86e977-261a-480b-b3af-7befa977c824",
   "metadata": {},
   "source": [
    "## Prediction on test set"
   ]
  },
  {
   "cell_type": "code",
   "execution_count": null,
   "id": "a4df9ec9-24fe-4a72-aa1c-b69c38a9a982",
   "metadata": {},
   "outputs": [],
   "source": [
    "preds = model.predict(X_test)"
   ]
  },
  {
   "cell_type": "code",
   "execution_count": null,
   "id": "3a0ef275-c4df-4de8-ad04-7394ce6be9d4",
   "metadata": {},
   "outputs": [],
   "source": [
    "print(preds)\n",
    "# TODO: get accuracy"
   ]
  }
 ],
 "metadata": {
  "kernelspec": {
   "display_name": "Python 3 (ipykernel)",
   "language": "python",
   "name": "python3"
  },
  "language_info": {
   "codemirror_mode": {
    "name": "ipython",
    "version": 3
   },
   "file_extension": ".py",
   "mimetype": "text/x-python",
   "name": "python",
   "nbconvert_exporter": "python",
   "pygments_lexer": "ipython3",
   "version": "3.10.8"
  }
 },
 "nbformat": 4,
 "nbformat_minor": 5
}
